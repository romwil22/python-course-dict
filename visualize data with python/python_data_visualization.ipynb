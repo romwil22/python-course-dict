{
 "cells": [
  {
   "cell_type": "markdown",
   "id": "b72da668",
   "metadata": {},
   "source": [
    "# Data Visualization"
   ]
  },
  {
   "cell_type": "markdown",
   "id": "167bfa3d",
   "metadata": {},
   "source": [
    "## The presentation of data in graphical or pictorial fomat."
   ]
  },
  {
   "cell_type": "markdown",
   "id": "8f0a0b4a",
   "metadata": {},
   "source": [
    "# Column graph"
   ]
  },
  {
   "cell_type": "markdown",
   "id": "553a49c3",
   "metadata": {},
   "source": [
    "### Useful for comparisons.\n",
    "### Useful for tracking data sets over time."
   ]
  },
  {
   "cell_type": "markdown",
   "id": "ba63da54",
   "metadata": {},
   "source": [
    "# Bar graph"
   ]
  },
  {
   "cell_type": "markdown",
   "id": "c30b77f6",
   "metadata": {},
   "source": [
    "### Allows more room for labels and categories.\n",
    "### a column graph but in a horizontal orientation."
   ]
  },
  {
   "cell_type": "markdown",
   "id": "a76947cb",
   "metadata": {},
   "source": [
    "# Pie chart"
   ]
  },
  {
   "cell_type": "markdown",
   "id": "1cf4d7e9",
   "metadata": {},
   "source": [
    "### Visualization of parts of a whole percentage.\n",
    "### All parts should add up to a total of 100%."
   ]
  },
  {
   "cell_type": "markdown",
   "id": "cf324c81",
   "metadata": {},
   "source": [
    "# Stacked bar graph"
   ]
  },
  {
   "cell_type": "markdown",
   "id": "b1d37d93",
   "metadata": {},
   "source": [
    "### Combines elements of bar and pie chart.\n",
    "### Useful for preseting totals, trends, and proportions."
   ]
  },
  {
   "cell_type": "markdown",
   "id": "f2c1a57d",
   "metadata": {},
   "source": [
    "# Clustered bar chart"
   ]
  },
  {
   "cell_type": "markdown",
   "id": "4feda3c1",
   "metadata": {},
   "source": [
    "### Useful for presenting how secondary categories rank within primary categories."
   ]
  },
  {
   "cell_type": "markdown",
   "id": "d54bc65d",
   "metadata": {},
   "source": [
    "# Line graph"
   ]
  },
  {
   "cell_type": "markdown",
   "id": "2842afcf",
   "metadata": {},
   "source": [
    "### Reveals trends, progress, and changes over time.\n",
    "### Works best with a continous data set."
   ]
  },
  {
   "cell_type": "markdown",
   "id": "05bc3b0f",
   "metadata": {},
   "source": [
    "# Histogram"
   ]
  },
  {
   "cell_type": "markdown",
   "id": "71055dcf",
   "metadata": {},
   "source": [
    "### Depicts frequency values.\n",
    "### The x-axis is for the bins or intervals while the y-axis is for the frequency.\n"
   ]
  },
  {
   "cell_type": "markdown",
   "id": "68edb8d6",
   "metadata": {},
   "source": [
    "# Coding exercise 2.8"
   ]
  },
  {
   "cell_type": "code",
   "execution_count": 1,
   "id": "6f5bb4d0",
   "metadata": {},
   "outputs": [
    {
     "name": "stdout",
     "output_type": "stream",
     "text": [
      "average buy for 5 weeks: 21.0\n"
     ]
    }
   ],
   "source": [
    "import array as arr\n",
    "\n",
    "def resultAverage(result):\n",
    "    print(\"average buy for 5 weeks:\",result)\n",
    "    \n",
    "onlineBuy = [19,29,17,24,16]\n",
    "    \n",
    "data = arr.array(\"i\", onlineBuy)\n",
    "items = data[0:5]\n",
    "itemList = items.tolist()\n",
    "\n",
    "def getAverage(data):\n",
    "    dataSum = sum(data)\n",
    "    dataLen = len(data)\n",
    "    average = dataSum / dataLen\n",
    "    \n",
    "    return average\n",
    "\n",
    "averageResult = getAverage(itemList)\n",
    "\n",
    "resultAverage(averageResult)"
   ]
  },
  {
   "cell_type": "code",
   "execution_count": null,
   "id": "74366906",
   "metadata": {},
   "outputs": [],
   "source": []
  }
 ],
 "metadata": {
  "kernelspec": {
   "display_name": "Python 3 (ipykernel)",
   "language": "python",
   "name": "python3"
  },
  "language_info": {
   "codemirror_mode": {
    "name": "ipython",
    "version": 3
   },
   "file_extension": ".py",
   "mimetype": "text/x-python",
   "name": "python",
   "nbconvert_exporter": "python",
   "pygments_lexer": "ipython3",
   "version": "3.10.4"
  }
 },
 "nbformat": 4,
 "nbformat_minor": 5
}
