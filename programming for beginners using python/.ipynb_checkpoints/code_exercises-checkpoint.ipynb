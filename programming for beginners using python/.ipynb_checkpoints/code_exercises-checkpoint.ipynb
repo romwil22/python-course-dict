{
 "cells": [
  {
   "cell_type": "markdown",
   "id": "213e2943",
   "metadata": {},
   "source": [
    "# 1.10 Coding Exercise"
   ]
  },
  {
   "cell_type": "code",
   "execution_count": 3,
   "id": "4586cfb9",
   "metadata": {},
   "outputs": [
    {
     "name": "stdout",
     "output_type": "stream",
     "text": [
      "There was once a pirate who loved adventure.\n",
      "The pirate would take her ship to unknown places.\n",
      "She brings home a lot of gold.\n",
      "Then she goes home to her pet parrot, Chuckles.\n"
     ]
    }
   ],
   "source": [
    "character_job = \"pirate\"\n",
    "character_ride = \"ship\"\n",
    "character_souvenir = \"gold\"\n",
    "character_pet = \"parrot\"\n",
    "\n",
    "print(\"There was once a \" + character_job + \" who loved adventure.\")\n",
    "print(\"The \" + character_job + \" would take her \" + character_ride + \" to unknown places.\")\n",
    "print(\"She brings home a lot of \" + character_souvenir + \".\")\n",
    "print(\"Then she goes home to her pet \" + character_pet + \", Chuckles.\")"
   ]
  },
  {
   "cell_type": "markdown",
   "id": "d00cb15b",
   "metadata": {},
   "source": [
    "# 1.14 Coding Exercise\n"
   ]
  },
  {
   "cell_type": "code",
   "execution_count": 6,
   "id": "b3ee4270",
   "metadata": {},
   "outputs": [
    {
     "name": "stdout",
     "output_type": "stream",
     "text": [
      "Roses are red, violets are blue.\n",
      "Ten is greater than seven!\n",
      "Sixteen is less than forty-two!\n",
      "A long time ago in a galaxy far, far away...\n"
     ]
    }
   ],
   "source": [
    "print(\"Roses are red, violets are blue.\")\n",
    "\n",
    "if 10 > 7:\n",
    "    print(\"Ten is greater than seven!\")\n",
    "\n",
    "if 16 < 42:\n",
    "    print(\"Sixteen is less than forty-two!\")\n",
    "    \n",
    "print(\"A long time ago in a galaxy far, far away...\")"
   ]
  },
  {
   "cell_type": "markdown",
   "id": "69ec940d",
   "metadata": {},
   "source": [
    "# 2.3 Coding Exercise"
   ]
  },
  {
   "cell_type": "code",
   "execution_count": 9,
   "id": "93454798",
   "metadata": {},
   "outputs": [
    {
     "name": "stdout",
     "output_type": "stream",
     "text": [
      "Have a nice day! romwil\n"
     ]
    }
   ],
   "source": [
    "def greet_name(name):\n",
    "    print(\"Have a nice day! \" + name)\n",
    "\n",
    "greet_name(\"romwil\")"
   ]
  },
  {
   "cell_type": "markdown",
   "id": "5b94ca7f",
   "metadata": {},
   "source": [
    "# 2.7 Coding Exercise"
   ]
  },
  {
   "cell_type": "code",
   "execution_count": 11,
   "id": "0a29f462",
   "metadata": {},
   "outputs": [
    {
     "name": "stdout",
     "output_type": "stream",
     "text": [
      "Enter your name: rom\n",
      "Enter your age: 29\n",
      "Enter your favorite color: blue\n",
      "Enter your favorite movie: marvel movies\n",
      "Enter your motto in life: work hard, trust the process\n",
      "Name: rom\n",
      "Age: 29\n",
      "Favorite color: blue\n",
      "favorite movie: marvel movies\n",
      "Motto in life: work hard, trust the process\n"
     ]
    }
   ],
   "source": [
    "def slam_book(name,age,favColor,favMovie,motto):\n",
    "    print(\"Name: \" + name)\n",
    "    print(\"Age: \" + str(age))\n",
    "    print(\"Favorite color: \" + favColor)\n",
    "    print(\"favorite movie: \" + favMovie)\n",
    "    print(\"Motto in life: \" + motto)\n",
    "\n",
    "name = input(\"Enter your name: \")\n",
    "age = int(input(\"Enter your age: \"))\n",
    "favorateColor = input(\"Enter your favorite color: \")\n",
    "favoriteMovie = input(\"Enter your favorite movie: \")\n",
    "mottoInLife = input(\"Enter your motto in life: \")\n",
    "\n",
    "slam_book(name,age,favorateColor,favoriteMovie,mottoInLife)"
   ]
  },
  {
   "cell_type": "markdown",
   "id": "6442d705",
   "metadata": {},
   "source": [
    "# 2.11 Coding Exercise"
   ]
  },
  {
   "cell_type": "code",
   "execution_count": 12,
   "id": "fe204456",
   "metadata": {},
   "outputs": [
    {
     "name": "stdout",
     "output_type": "stream",
     "text": [
      "True\n",
      "73911\n",
      "('T', 'h', 'a', 'n', 'k', ' ', 'G', 'o', 'd', ' ', 'i', 't', \"'\", 's', ' ', 'F', 'r', 'i', 'd', 'a', 'y', '!')\n",
      "4302.0\n",
      "3299\n"
     ]
    }
   ],
   "source": [
    "print(10 > 7)\n",
    "print(str(73911))\n",
    "print(tuple(\"Thank God it's Friday!\"))\n",
    "print(float(4302))\n",
    "print(int(3299.35640))"
   ]
  },
  {
   "cell_type": "markdown",
   "id": "1f6d953c",
   "metadata": {},
   "source": [
    "# 3.4 Coding Exercises"
   ]
  },
  {
   "cell_type": "code",
   "execution_count": 18,
   "id": "6207b33f",
   "metadata": {},
   "outputs": [
    {
     "name": "stdout",
     "output_type": "stream",
     "text": [
      "Welcome to the Coffee Palace, Samirah\n",
      "Beverage order: iced caffe latte\n",
      "Welcome to the Coffee Palace, Samirah\n",
      "Food order: Glazed doughnut\n"
     ]
    }
   ],
   "source": [
    "class Customers:\n",
    "    greeting = \"Welcome to the Coffee Palace\"\n",
    "\n",
    "customer1 = Customers()\n",
    "\n",
    "customer1.name = \"Samirah\"\n",
    "customer1.beverage = \"iced caffe latte\"\n",
    "customer1.food = \"Cinnamon roll\"\n",
    "customer1.total = 225\n",
    "\n",
    "customer2 = Customers()\n",
    "\n",
    "customer2.name = \"Jerry\"\n",
    "customer2.beverage = \"Caramel macchiato\"\n",
    "customer2.food = \"Glazed doughnut\"\n",
    "customer2.total = 230\n",
    "\n",
    "print(customer1.greeting + \", \" + customer1.name)\n",
    "print(\"Beverage order: \" + customer1.beverage)\n",
    "print(customer1.greeting + \", \" + customer1.name)\n",
    "print(\"Food order: \" + customer2.food)"
   ]
  },
  {
   "cell_type": "markdown",
   "id": "b5b5340b",
   "metadata": {},
   "source": [
    "# 3.8 Coding Exercise"
   ]
  },
  {
   "cell_type": "code",
   "execution_count": 19,
   "id": "e02a07ac",
   "metadata": {},
   "outputs": [
    {
     "name": "stdout",
     "output_type": "stream",
     "text": [
      "1302\n",
      "35834\n",
      "5\n",
      "355\n",
      "45435424\n"
     ]
    }
   ],
   "source": [
    "print(217 * 6)\n",
    "print(600 + 35234)\n",
    "print(67 // 12)\n",
    "print(56329 % 982)\n",
    "print(34 ** 5)"
   ]
  },
  {
   "cell_type": "markdown",
   "id": "bd8441cb",
   "metadata": {},
   "source": [
    "# 3.12 Coding Exercise"
   ]
  },
  {
   "cell_type": "code",
   "execution_count": 22,
   "id": "cae01d28",
   "metadata": {},
   "outputs": [
    {
     "name": "stdout",
     "output_type": "stream",
     "text": [
      "False\n",
      "True\n",
      "True\n",
      "True\n",
      "False\n"
     ]
    }
   ],
   "source": [
    "my_age = 22\n",
    "mom_age = 61\n",
    "sister_age = 29\n",
    "\n",
    "print((mom_age < sister_age) and (my_age == 22))\n",
    "print(mom_age == 61)\n",
    "print((mom_age > 34) or (sister_age == 22))\n",
    "print(mom_age >= 54)\n",
    "print(not((sister_age <= 400) and (my_age == 22)))"
   ]
  },
  {
   "cell_type": "markdown",
   "id": "ed5e32b0",
   "metadata": {},
   "source": [
    "# 4.4 Coding Exercise"
   ]
  },
  {
   "cell_type": "code",
   "execution_count": 24,
   "id": "a70181de",
   "metadata": {},
   "outputs": [
    {
     "name": "stdout",
     "output_type": "stream",
     "text": [
      "x is less than y\n"
     ]
    }
   ],
   "source": [
    "x = 332\n",
    "y = 2031\n",
    "\n",
    "if (x >= y):\n",
    "    print(\"x is greater than y or equal to y\")\n",
    "elif (x == y):\n",
    "    print(\"x is equal to y\")\n",
    "else:\n",
    "    print(\"x is less than y\")"
   ]
  },
  {
   "cell_type": "markdown",
   "id": "b15bfa41",
   "metadata": {},
   "source": [
    "# 4.8 Coding Exercise"
   ]
  },
  {
   "cell_type": "code",
   "execution_count": 26,
   "id": "861353d3",
   "metadata": {},
   "outputs": [
    {
     "name": "stdout",
     "output_type": "stream",
     "text": [
      "table\n",
      "chair\n",
      "desk\n",
      "cough\n",
      "1\n",
      "2\n",
      "3\n",
      "4\n",
      "5\n",
      "6\n",
      "7\n",
      "8\n",
      "9\n",
      "10\n",
      "11\n",
      "12\n",
      "13\n",
      "14\n",
      "i is no longer less than 15\n"
     ]
    }
   ],
   "source": [
    "furniture = [\"table\", \"chair\", \"cabinet\", \"desk\", \"cough\"]\n",
    "\n",
    "for x in furniture:\n",
    "    if x == \"cabinet\":\n",
    "        continue\n",
    "    print(x)\n",
    "    \n",
    "i = 1\n",
    "\n",
    "while i < 15:\n",
    "    print(i)\n",
    "    i += 1\n",
    "else:\n",
    "    print(\"i is no longer less than 15\")"
   ]
  }
 ],
 "metadata": {
  "kernelspec": {
   "display_name": "Python 3 (ipykernel)",
   "language": "python",
   "name": "python3"
  },
  "language_info": {
   "codemirror_mode": {
    "name": "ipython",
    "version": 3
   },
   "file_extension": ".py",
   "mimetype": "text/x-python",
   "name": "python",
   "nbconvert_exporter": "python",
   "pygments_lexer": "ipython3",
   "version": "3.9.12"
  }
 },
 "nbformat": 4,
 "nbformat_minor": 5
}
