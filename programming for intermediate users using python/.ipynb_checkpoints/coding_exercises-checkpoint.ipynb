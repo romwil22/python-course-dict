{
 "cells": [
  {
   "cell_type": "markdown",
   "id": "6d4be7ee",
   "metadata": {},
   "source": [
    "# 1.5 Coding Exercises    "
   ]
  },
  {
   "cell_type": "code",
   "execution_count": 4,
   "id": "19f4035a",
   "metadata": {},
   "outputs": [
    {
     "name": "stdout",
     "output_type": "stream",
     "text": [
      "Welcome to Coffee Palace!\n",
      "Order By: Elaine\n",
      "Beverage order: Strawberry frappuccino\n",
      "Food order: Tuna wrap\n",
      "Total payment: 270\n",
      "Welcome to Coffee Palace!\n",
      "Order By: Jerry\n",
      "Beverage order: Caramel macchiato\n",
      "Food order: glazed doughnut\n",
      "Total payment: 230\n"
     ]
    }
   ],
   "source": [
    "class Customers:\n",
    "    greeting = \"Welcome to Coffee Palace!\"\n",
    "    \n",
    "    def __init__(self, name, beverage, food, total):\n",
    "        self.name = name\n",
    "        self.beverage = beverage\n",
    "        self.food = food\n",
    "        self.total = total\n",
    "\n",
    "c_1 = Customers(\"Elaine\", \"Strawberry frappuccino\", \"Tuna wrap\", 270)\n",
    "c_2 = Customers(\"Jerry\", \"Caramel macchiato\", \"glazed doughnut\", 230)\n",
    "\n",
    "print(c_1.greeting)\n",
    "print(\"Order By: \" + c_1.name)\n",
    "print(\"Beverage order: \" + c_1.beverage)\n",
    "print(\"Food order: \" + c_1.food)\n",
    "print(\"Total payment: \" + str(c_1.total))\n",
    "\n",
    "print(c_2.greeting)\n",
    "print(\"Order By: \" + c_2.name)\n",
    "print(\"Beverage order: \" + c_2.beverage)\n",
    "print(\"Food order: \" + c_2.food)\n",
    "print(\"Total payment: \" + str(c_2.total))"
   ]
  },
  {
   "cell_type": "markdown",
   "id": "85be9ca2",
   "metadata": {},
   "source": [
    "# 1.9 Coding Exercises"
   ]
  },
  {
   "cell_type": "code",
   "execution_count": 9,
   "id": "a5084f37",
   "metadata": {},
   "outputs": [
    {
     "name": "stdout",
     "output_type": "stream",
     "text": [
      "parent/Member information:\n",
      "name: Tom\n",
      "Birthdate: January 16\n",
      "Age: 14\n",
      "Favorite food: Ice cream\n",
      "Goal: To be happy\n",
      "\n",
      "child/Officer information:\n",
      "name: Vera\n",
      "Birthdate: June 22\n",
      "Age: 16\n",
      "Favorite food: Beef stroganoff\n",
      "Goal: To be the world's greatest chef\n",
      "Position: Treasurer\n"
     ]
    }
   ],
   "source": [
    "class ClubMembers:\n",
    "    def __init__(self, name, birthday, age, favoriteFood, goal):\n",
    "        self.name = name\n",
    "        self.birthday = birthday\n",
    "        self.age = age\n",
    "        self.favoriteFood = favoriteFood\n",
    "        self.goal = goal\n",
    "    \n",
    "    def displayMember(self):\n",
    "        print(\"parent/Member information:\")\n",
    "        print(\"name: \" + self.name)\n",
    "        print(\"Birthdate: \" + self.birthday)\n",
    "        print(\"Age: \" + str(self.age))\n",
    "        print(\"Favorite food: \" + self.favoriteFood)\n",
    "        print(\"Goal: \" + self.goal)\n",
    "\n",
    "class ClubOfficers(ClubMembers):\n",
    "    def __init__(self, name, birthday, age, favoriteFood, goal, position):\n",
    "        self.position = position\n",
    "        ClubMembers.__init__(self, name, birthday, age, favoriteFood, goal)\n",
    "    \n",
    "    def displayOfficer(self):\n",
    "        print(\"child/Officer information:\")\n",
    "        print(\"name: \" + self.name)\n",
    "        print(\"Birthdate: \" + self.birthday)\n",
    "        print(\"Age: \" + str(self.age))\n",
    "        print(\"Favorite food: \" + self.favoriteFood)\n",
    "        print(\"Goal: \" + self.goal)\n",
    "        print(\"Position: \" + self.position)\n",
    "        \n",
    "m_1 = ClubMembers(\"Tom\", \"January 16\", 14, \"Ice cream\", \"To be happy\")\n",
    "m_1.displayMember()\n",
    "print()\n",
    "o_4 = ClubOfficers(\"Vera\", \"June 22\", 16, \"Beef stroganoff\", \"To be the world's greatest chef\", \"Treasurer\")\n",
    "o_4.displayOfficer()\n",
    "    "
   ]
  },
  {
   "cell_type": "markdown",
   "id": "04741de5",
   "metadata": {},
   "source": [
    "# 2.4 Coding Exercises"
   ]
  },
  {
   "cell_type": "code",
   "execution_count": 4,
   "id": "6e190dea",
   "metadata": {},
   "outputs": [
    {
     "name": "stdout",
     "output_type": "stream",
     "text": [
      "{'vanilla': 'almonds', 'chocolate': 'banana slices', 'strawberry': 'chocolate sycrup', \"cookies n' cream \": 'caramel syrup', 'bubblegum': 'white chocolate chips'}\n",
      "\n",
      "{'vanilla': 'almonds', 'chocolate': 'blueberries', 'strawberry': 'chocolate sycrup', \"cookies n' cream \": 'caramel syrup', 'bubblegum': 'white chocolate chips', 'macha': 'pistachios', 'ube': 'mango slices'}\n"
     ]
    }
   ],
   "source": [
    "flavors = [\"vanilla\", \"chocolate\", \"strawberry\", \"cookies n' cream \", \"bubblegum\"]\n",
    "toppings = [\"almonds\", \"banana slices\", \"chocolate sycrup\", \"caramel syrup\", \"white chocolate chips\"]\n",
    "ice_cream = dict(zip(flavors, toppings))\n",
    "\n",
    "print(ice_cream)\n",
    "print()\n",
    "ice_cream[\"chocolate\"] = \"blueberries\"\n",
    "ice_cream.update({\"macha\": \"pistachios\", \"ube\": \"mango slices\"})\n",
    "\n",
    "print(ice_cream)"
   ]
  },
  {
   "cell_type": "markdown",
   "id": "82930c3e",
   "metadata": {},
   "source": [
    "# 2.8 Coding Exercises"
   ]
  },
  {
   "cell_type": "code",
   "execution_count": 13,
   "id": "c3149089",
   "metadata": {},
   "outputs": [
    {
     "name": "stdout",
     "output_type": "stream",
     "text": [
      "{'chicken': 8, 'apples': 6, 'cucumbers': 3, 'milk': 2}\n",
      "dict_keys(['Sir Rafael', 'Ms.Joan', 'Ms.Dana'])\n",
      "Failed\n"
     ]
    }
   ],
   "source": [
    "groceries = {\"chicken\": 8, \"apples\": 6, \"cucumbers\": 3,\"milk\": 2, \"oranges\": 4}\n",
    "remove = groceries.pop(\"oranges\")\n",
    "\n",
    "print(groceries)\n",
    "\n",
    "speakers = {\"Sir Rafael\": 54, \"Ms.Joan\": 33, \"Ms.Dana\": 67}\n",
    "speakerNames = speakers.keys()\n",
    "\n",
    "print(speakerNames)\n",
    "\n",
    "swimmingTeamTryOut = {\"Carl\": \"Passed\", \"Quentin\": \"Failed\", \"John Y.\": \"Passed\",\n",
    "                      \"Peter\": \"Failed\", \"Max T.\": \"Passed\", \"Joseph\": \"Passed\",\n",
    "                      \"Jone\": \"Failed\", \"Jorge\": \"Failed\", \"George\": \"Passed\",\n",
    "                      \"Ben\": \"Passed\", \"Jerome\": \"Passed\", \"Rick\": \"Failed\",\n",
    "                      \"Max G.\": \"Failed\", \"John P.\": \"Failed\", \"Vince\": \"Passed\"}\n",
    "\n",
    "print(swimmingTeamTryOut[\"Jorge\"])"
   ]
  },
  {
   "cell_type": "markdown",
   "id": "d46ed1e1",
   "metadata": {},
   "source": [
    "# 3.4 Coding Exercises"
   ]
  },
  {
   "cell_type": "code",
   "execution_count": 20,
   "id": "ae5c526c",
   "metadata": {},
   "outputs": [],
   "source": [
    "fileText = open(\"pythonQuestion.txt\", \"w\")\n",
    "fileText.write(\"I like to learn in the future data science in python.\")\n",
    "\n",
    "fileText = open(\"pythonQuestion.txt\", \"a\")\n",
    "fileText.write(\"\\nMaking a project.\")\n",
    "fileText.write(\"\\nDo coding challanges or building a python project.\")\n",
    "fileText.write(\"\\nTo become a Python developer and data analyst in the future.\")\n",
    "fileText.close()"
   ]
  },
  {
   "cell_type": "markdown",
   "id": "6449a614",
   "metadata": {},
   "source": [
    "# 3.8 Coding Exercises"
   ]
  },
  {
   "cell_type": "code",
   "execution_count": 40,
   "id": "c65481ae",
   "metadata": {},
   "outputs": [
    {
     "name": "stdout",
     "output_type": "stream",
     "text": [
      "I like to learn in the future data science in python.\n",
      "\n",
      "Making a project.\n",
      "\n",
      "Do coding challanges or building a python project.\n",
      "\n",
      "To become a Python developer and data analyst in the future.\n"
     ]
    }
   ],
   "source": [
    "import os\n",
    "\n",
    "readText = open(\"pythonQuestion.txt\", \"r\")\n",
    "print(readText.read())\n",
    "\n",
    "readText.close()"
   ]
  },
  {
   "cell_type": "code",
   "execution_count": 42,
   "id": "16ca88e5",
   "metadata": {},
   "outputs": [
    {
     "name": "stdout",
     "output_type": "stream",
     "text": [
      "I like to learn in the future data science in python.\n",
      "\n"
     ]
    }
   ],
   "source": [
    "readText = open(\"pythonQuestion.txt\", \"r\")\n",
    "print(readText.readline())"
   ]
  },
  {
   "cell_type": "code",
   "execution_count": 41,
   "id": "b3863ef1",
   "metadata": {},
   "outputs": [
    {
     "name": "stdout",
     "output_type": "stream",
     "text": [
      "I like to learn in the future data science in python.\n",
      "\n",
      "Making a project.\n",
      "\n",
      "Do coding challanges or building a python project.\n",
      "\n",
      "To become a Python developer and data analyst in the future.\n"
     ]
    }
   ],
   "source": [
    "readText = open(\"pythonQuestion.txt\", \"r\")\n",
    "\n",
    "for read in readText:\n",
    "    print(read)\n",
    "    \n",
    "readText.close()"
   ]
  },
  {
   "cell_type": "code",
   "execution_count": null,
   "id": "fe3d65ed",
   "metadata": {},
   "outputs": [],
   "source": [
    "import os\n",
    "\n",
    "if os.path.exists(\"pythonQuestion.txt\"):\n",
    "    os.remove(\"pythonQuestion.txt\")\n",
    "else:\n",
    "    print(\"Text file doesn't exist.\")"
   ]
  }
 ],
 "metadata": {
  "kernelspec": {
   "display_name": "Python 3 (ipykernel)",
   "language": "python",
   "name": "python3"
  },
  "language_info": {
   "codemirror_mode": {
    "name": "ipython",
    "version": 3
   },
   "file_extension": ".py",
   "mimetype": "text/x-python",
   "name": "python",
   "nbconvert_exporter": "python",
   "pygments_lexer": "ipython3",
   "version": "3.9.12"
  }
 },
 "nbformat": 4,
 "nbformat_minor": 5
}
